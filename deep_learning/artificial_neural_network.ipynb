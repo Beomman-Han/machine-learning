{
 "cells": [
  {
   "cell_type": "code",
   "execution_count": 1,
   "id": "2ab77e88",
   "metadata": {},
   "outputs": [],
   "source": [
    "import numpy as np"
   ]
  },
  {
   "cell_type": "code",
   "execution_count": 2,
   "id": "5c5d0214",
   "metadata": {},
   "outputs": [],
   "source": [
    "def initialize_parameters(neurons_per_layer):\n",
    "    ## initialize weights and biases of ANN\n",
    "    \n",
    "    L = len(neurons_per_layer) - 1\n",
    "    parameters = dict()\n",
    "    \n",
    "    for i in range(1, L + 1):\n",
    "        \n",
    "        n_neurons = neurons_per_layer[i]\n",
    "        n_neurons_prev = neurons_per_layer[i - 1]\n",
    "\n",
    "        parameters[f'W{i}'] = np.sqrt(1 / n_neurons) * np.random.randn(\n",
    "                            n_neurons, n_neurons_prev)\n",
    "        parameters[f'b{i}'] = np.sqrt(1 / n_neurons) * np.random.randn(n_neurons)\n",
    "        \n",
    "    return parameters"
   ]
  },
  {
   "cell_type": "code",
   "execution_count": 3,
   "id": "b7d6b93f",
   "metadata": {},
   "outputs": [],
   "source": [
    "np.random.seed(42)"
   ]
  },
  {
   "cell_type": "code",
   "execution_count": 4,
   "id": "939c6f93",
   "metadata": {},
   "outputs": [
    {
     "data": {
      "text/plain": [
       "{'W1': array([[ 0.22213732, -0.06183368,  0.28965512,  0.68111966, -0.10471657,\n",
       "         -0.10470923,  0.70624544,  0.34320724, -0.20995533,  0.24264023],\n",
       "        [-0.20724669, -0.20828068,  0.10820882, -0.85564494, -0.77140671,\n",
       "         -0.25146263, -0.45295185,  0.14053568, -0.40608071, -0.63160142],\n",
       "        [ 0.65545806, -0.10097023,  0.03019953, -0.63716676, -0.24345536,\n",
       "          0.04960609, -0.51473998,  0.16801726, -0.26861379, -0.13044941],\n",
       "        [-0.26909138,  0.82836399, -0.00603614, -0.47302271,  0.36785327,\n",
       "         -0.54597788,  0.09340664, -0.87639112, -0.59398286,  0.08803902],\n",
       "        [ 0.33025229,  0.07663823, -0.05171948, -0.13465767, -0.66121514,\n",
       "         -0.32192412, -0.20600392,  0.47275943,  0.15367077, -0.78845553]]),\n",
       " 'b1': array([ 0.14493476, -0.17221403, -0.30272872,  0.27354995,  0.461077  ]),\n",
       " 'W2': array([[ 0.41648113, -0.37530949, -0.13828398,  0.14814551,  0.43627704],\n",
       "        [-0.21429323, -0.08302922, -0.49476804, -0.53495987,  0.36337259],\n",
       "        [ 0.60652898, -0.03220391,  0.44879356,  0.16172855, -0.28850632],\n",
       "        [ 0.16162103,  0.68783086, -0.01602189,  0.69972991, -1.17158563],\n",
       "        [ 0.36756597,  0.03892863, -0.13372015,  0.04103667, -0.88886784]]),\n",
       " 'b2': array([-0.09824025,  0.1597056 ,  0.66093431, -0.23177749, -0.36156933]),\n",
       " 'W3': array([[-0.28968956,  0.52850766,  0.18980454, -0.3058572 ,  0.29633509],\n",
       "        [ 0.05604775,  0.55924745, -0.40533054, -0.18917583, -0.22638375],\n",
       "        [-0.84496075,  0.17096512,  0.15072033,  0.00295226, -0.13543894]]),\n",
       " 'b3': array([-0.81716468, -0.24285969, -0.19786632])}"
      ]
     },
     "execution_count": 4,
     "metadata": {},
     "output_type": "execute_result"
    }
   ],
   "source": [
    "neurons_per_layer = [10, 5, 5, 3]\n",
    "initialize_parameters(neurons_per_layer)"
   ]
  },
  {
   "cell_type": "code",
   "execution_count": 5,
   "id": "18ae6e8b",
   "metadata": {},
   "outputs": [],
   "source": [
    "import pandas as pd"
   ]
  },
  {
   "cell_type": "code",
   "execution_count": 6,
   "id": "52a96877",
   "metadata": {},
   "outputs": [],
   "source": [
    "## load dataset\n",
    "dataset = pd.read_csv('./data/MNIST_preprocessed.csv', sep=\",\", header=None).values\n",
    "\n",
    "## set input, target variables\n",
    "X = dataset[:, 0:784]\n",
    "Y = dataset[:, 784:]\n",
    "\n",
    "X_train, X_test = X[0:250,], X[250:,]\n",
    "Y_train, Y_test = Y[0:250,], Y[250:,]"
   ]
  },
  {
   "cell_type": "code",
   "execution_count": 7,
   "id": "16c35444",
   "metadata": {},
   "outputs": [],
   "source": [
    "def sigmoid(x):\n",
    "    return 1 / (1 + np.exp(-x))"
   ]
  },
  {
   "cell_type": "code",
   "execution_count": 8,
   "id": "4bf60e37",
   "metadata": {},
   "outputs": [],
   "source": [
    "def feed_forward(x, parameters):\n",
    "    \n",
    "    cache = {'a0' : x}\n",
    "    L = len(parameters) // 2\n",
    "    \n",
    "    for l in range(1, L + 1):\n",
    "        a_prev = cache[f'a{l - 1}']\n",
    "        W = parameters[f'W{l}']\n",
    "        b = parameters[f'b{l}']\n",
    "        \n",
    "        cache[f'z{l}'] = W @ a_prev + b\n",
    "        cache[f'a{l}'] = sigmoid(cache[f'z{l}'])\n",
    "    \n",
    "    return cache[f'a{L}'], cache"
   ]
  },
  {
   "cell_type": "code",
   "execution_count": 9,
   "id": "c00ce475",
   "metadata": {},
   "outputs": [
    {
     "data": {
      "text/plain": [
       "array([0.39847348, 0.63079802, 0.79832892, 0.93056447, 0.67941405,\n",
       "       0.67578969, 0.05318435, 0.37468117, 0.12677036, 0.6419338 ])"
      ]
     },
     "execution_count": 9,
     "metadata": {},
     "output_type": "execute_result"
    }
   ],
   "source": [
    "## run feed forward with 'MNIST_preprocessed.csv' data\n",
    "np.random.seed(42)\n",
    "\n",
    "neurons_per_layer = [784, 128, 64, 10]\n",
    "parameters = initialize_parameters(neurons_per_layer)\n",
    "feed_forward(X_train[0], parameters)[0]"
   ]
  },
  {
   "cell_type": "code",
   "execution_count": 10,
   "id": "a777e21f",
   "metadata": {},
   "outputs": [],
   "source": [
    "## practice back propagation"
   ]
  },
  {
   "cell_type": "code",
   "execution_count": 11,
   "id": "87fcfca4",
   "metadata": {},
   "outputs": [],
   "source": [
    "def d_sigmoid(x):\n",
    "    \"\"\"시그모이드 미분 함수\"\"\"\n",
    "    return (np.exp(-x))/((np.exp(-x)+1)**2)"
   ]
  },
  {
   "cell_type": "code",
   "execution_count": 18,
   "id": "821ae59b",
   "metadata": {},
   "outputs": [],
   "source": [
    "def back_prop(prediction, y, cache, parameters):\n",
    "    \"\"\"역전파 함수\"\"\"\n",
    "    gradients = {}\n",
    "    L = len(cache) // 2\n",
    "    da = (prediction - y) / y.shape[0]\n",
    "    \n",
    "    for layer in range(L, 0, -1):\n",
    "        # 역전파 행렬 연산을 사용해서 각 요소에 대한 편미분 계산\n",
    "        # 코드를 쓰세요\n",
    "        db = d_sigmoid(cache[f'z{layer}']) * da\n",
    "        dW = np.outer(db, cache[f'a{layer - 1}'])\n",
    "        da = parameters[f'W{layer}'].T @ db\n",
    "        \n",
    "        \n",
    "        # 계산한 편미분 값들을 저장\n",
    "        gradients['dW' + str(layer)] = dW\n",
    "        gradients['db' + str(layer)] = db\n",
    "    \n",
    "    # 계산한 편미분 값들 리턴\n",
    "    return gradients"
   ]
  },
  {
   "cell_type": "code",
   "execution_count": 13,
   "id": "caa69463",
   "metadata": {},
   "outputs": [],
   "source": [
    "def compute_accuracy(x_val, y_val, parameters):\n",
    "    \"\"\"예측 값들의 성능을 계산하는 함수\"\"\"\n",
    "    \n",
    "    predictions = []\n",
    "    \n",
    "    for x, y in zip(x_val, y_val):\n",
    "        output, _ = feed_forward(x, parameters)\n",
    "        pred = np.argmax(output)\n",
    "        predictions.append(pred == np.argmax(y))\n",
    "    \n",
    "    return np.mean(predictions)"
   ]
  },
  {
   "cell_type": "code",
   "execution_count": 14,
   "id": "00b765e5",
   "metadata": {},
   "outputs": [],
   "source": [
    "def compute_loss(x_val, y_val, parameters):\n",
    "    \"\"\"모델의 손실을 계산하는 함수\"\"\"\n",
    "    \n",
    "    loss = 0\n",
    "    for x, y in zip(x_val, y_val):\n",
    "        output, _ = feed_forward(x, parameters)\n",
    "        loss += np.mean((y - output)**2) / 2\n",
    "    \n",
    "    return loss / len(x_val)"
   ]
  },
  {
   "cell_type": "code",
   "execution_count": 15,
   "id": "62f4a71e",
   "metadata": {},
   "outputs": [],
   "source": [
    "def update(parameters, gradients, alpha, m):\n",
    "    \"\"\"계산된 경사로 가중치와 편향 값을 업데이트하는 함수\"\"\"\n",
    "    \n",
    "    L = len(parameters) // 2\n",
    "    \n",
    "    for layer in range(1, L+1):\n",
    "        parameters[f'W{layer}'] -= alpha * gradients[f'dW{layer}'] / m\n",
    "        parameters[f'b{layer}'] -= alpha * gradients[f'db{layer}'] / m\n",
    "    \n",
    "    return parameters"
   ]
  },
  {
   "cell_type": "code",
   "execution_count": 16,
   "id": "d4191f93",
   "metadata": {},
   "outputs": [],
   "source": [
    "def train_nn(X_train, Y_train, X_test, Y_test, neurons_per_layer, epoch, alpha):\n",
    "    \"\"\"신경망 모델을 학습시키는 함수\"\"\"\n",
    "    \n",
    "    parameters = initialize_parameters(neurons_per_layer)\n",
    "    loss_list = []\n",
    "    m = X_train.shape[0]\n",
    "    \n",
    "    for i in range(epoch):\n",
    "        parameters_copy = parameters.copy()\n",
    "        \n",
    "        for x, y in zip(X_train, Y_train):\n",
    "            prediction, cache = feed_forward(x, parameters)\n",
    "            gradients = back_prop(prediction, y, cache, parameters)\n",
    "            parameters_copy = update(parameters_copy, gradients, alpha, m)\n",
    "        \n",
    "        parameters = parameters_copy\n",
    "        loss_list.append(compute_loss(X_train, Y_train, parameters))\n",
    "        accuracy = round(compute_accuracy(X_test, Y_test, parameters), 2)\n",
    "        print(f'{i+1}번째 경사 하강, 테스트 셋에서 성능 : {accuracy}')\n",
    "    \n",
    "    return loss_list, parameters"
   ]
  },
  {
   "cell_type": "code",
   "execution_count": 19,
   "id": "dc351ffc",
   "metadata": {},
   "outputs": [
    {
     "name": "stdout",
     "output_type": "stream",
     "text": [
      "1번째 경사 하강, 테스트 셋에서 성능 : 0.16\n",
      "2번째 경사 하강, 테스트 셋에서 성능 : 0.18\n",
      "3번째 경사 하강, 테스트 셋에서 성능 : 0.36\n",
      "4번째 경사 하강, 테스트 셋에서 성능 : 0.54\n",
      "5번째 경사 하강, 테스트 셋에서 성능 : 0.64\n",
      "6번째 경사 하강, 테스트 셋에서 성능 : 0.64\n",
      "7번째 경사 하강, 테스트 셋에서 성능 : 0.64\n",
      "8번째 경사 하강, 테스트 셋에서 성능 : 0.68\n",
      "9번째 경사 하강, 테스트 셋에서 성능 : 0.68\n",
      "10번째 경사 하강, 테스트 셋에서 성능 : 0.7\n",
      "11번째 경사 하강, 테스트 셋에서 성능 : 0.7\n",
      "12번째 경사 하강, 테스트 셋에서 성능 : 0.7\n",
      "13번째 경사 하강, 테스트 셋에서 성능 : 0.7\n",
      "14번째 경사 하강, 테스트 셋에서 성능 : 0.7\n",
      "15번째 경사 하강, 테스트 셋에서 성능 : 0.76\n",
      "16번째 경사 하강, 테스트 셋에서 성능 : 0.76\n",
      "17번째 경사 하강, 테스트 셋에서 성능 : 0.78\n",
      "18번째 경사 하강, 테스트 셋에서 성능 : 0.8\n",
      "19번째 경사 하강, 테스트 셋에서 성능 : 0.8\n",
      "20번째 경사 하강, 테스트 셋에서 성능 : 0.8\n",
      "21번째 경사 하강, 테스트 셋에서 성능 : 0.8\n",
      "22번째 경사 하강, 테스트 셋에서 성능 : 0.8\n",
      "23번째 경사 하강, 테스트 셋에서 성능 : 0.8\n",
      "24번째 경사 하강, 테스트 셋에서 성능 : 0.8\n",
      "25번째 경사 하강, 테스트 셋에서 성능 : 0.8\n"
     ]
    }
   ],
   "source": [
    "np.random.seed(42)\n",
    "\n",
    "neurons_per_layer = [784, 128, 64, 10]\n",
    "parameters = initialize_parameters(neurons_per_layer)\n",
    "loss_list, parameters = train_nn(X_train, Y_train, X_test, Y_test, neurons_per_layer, 25, 300)\n"
   ]
  },
  {
   "cell_type": "code",
   "execution_count": null,
   "id": "e2213dd5",
   "metadata": {},
   "outputs": [],
   "source": []
  }
 ],
 "metadata": {
  "kernelspec": {
   "display_name": "Python 3 (ipykernel)",
   "language": "python",
   "name": "python3"
  },
  "language_info": {
   "codemirror_mode": {
    "name": "ipython",
    "version": 3
   },
   "file_extension": ".py",
   "mimetype": "text/x-python",
   "name": "python",
   "nbconvert_exporter": "python",
   "pygments_lexer": "ipython3",
   "version": "3.9.6"
  }
 },
 "nbformat": 4,
 "nbformat_minor": 5
}
