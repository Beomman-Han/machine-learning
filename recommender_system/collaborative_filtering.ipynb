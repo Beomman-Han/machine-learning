{
 "cells": [
  {
   "cell_type": "code",
   "execution_count": 5,
   "metadata": {},
   "outputs": [],
   "source": [
    "import pandas as pd\n",
    "import numpy as np\n",
    "from math import sqrt"
   ]
  },
  {
   "cell_type": "code",
   "execution_count": 6,
   "metadata": {},
   "outputs": [],
   "source": [
    "RATING_DATA_PATH = './data/ratings.csv'\n",
    "\n",
    "np.set_printoptions(precision=2)"
   ]
  },
  {
   "cell_type": "code",
   "execution_count": 7,
   "metadata": {},
   "outputs": [],
   "source": [
    "def distance(\n",
    "    user_1 : np.array,\n",
    "    user_2 : np.array\n",
    "    ) -> float:\n",
    "    \n",
    "    return sqrt(np.nansum((user_1 - user_2) ** 2))"
   ]
  },
  {
   "cell_type": "code",
   "execution_count": 8,
   "metadata": {},
   "outputs": [],
   "source": [
    "def filter_users_without_movie(\n",
    "    rating_data : np.array,\n",
    "    movie_id : int\n",
    "    ) -> np.array:\n",
    "    \"\"\"movie_id 번째 영화를 평가하지 않은 유저 제외\"\"\"\n",
    "    return rating_data[~np.isnan(rating_data[:,movie_id])]"
   ]
  },
  {
   "cell_type": "code",
   "execution_count": 9,
   "metadata": {},
   "outputs": [],
   "source": [
    "def fill_nan_with_user_mean(\n",
    "    rating_data : np.array\n",
    "    ) -> np.array:\n",
    "    \n",
    "    filled_data = np.copy(rating_data)\n",
    "    row_mean = np.nanmean(filled_data, axis=1)\n",
    "    inds = np.where(np.isnan(filled_data))  ## empty indices\n",
    "    filled_data[inds] = np.take(row_mean, inds[0])\n",
    "    \n",
    "    return filled_data"
   ]
  },
  {
   "cell_type": "code",
   "execution_count": 15,
   "metadata": {},
   "outputs": [],
   "source": [
    "def get_k_neighbors(user_id, rating_data, k):\n",
    "    \n",
    "    distance_data = np.copy(rating_data)\n",
    "    distance_data = np.append(distance_data, np.zeros((distance_data.shape[0], 1)), axis=1)\n",
    "    \n",
    "    for i in range(distance_data.shape[0]):\n",
    "        if i == user_id:\n",
    "            distance_data[i, -1] = np.inf\n",
    "            continue\n",
    "        distance_data[i, -1] = distance(distance_data[user_id, :-1], distance_data[i, :-1])\n",
    "    \n",
    "    ## sort by distance\n",
    "    distance_data = distance_data[np.argsort(distance_data[:, -1])]\n",
    "    \n",
    "    return distance_data[:k, :-1]"
   ]
  },
  {
   "cell_type": "code",
   "execution_count": 16,
   "metadata": {},
   "outputs": [
    {
     "data": {
      "text/plain": [
       "array([[3.18, 3.18, 3.18, 5.  , 3.18, 3.18, 2.  , 2.  , 2.  , 3.18, 3.  ,\n",
       "        4.  , 2.  , 5.  , 4.  , 3.18, 3.18, 3.18, 4.  , 2.  ],\n",
       "       [3.36, 5.  , 3.36, 5.  , 3.  , 3.36, 3.36, 3.  , 2.  , 4.  , 2.  ,\n",
       "        3.36, 4.  , 4.  , 5.  , 4.  , 2.  , 3.36, 1.  , 3.  ],\n",
       "       [2.71, 2.71, 2.  , 5.  , 2.71, 2.71, 2.71, 2.71, 2.71, 2.71, 2.71,\n",
       "        2.71, 1.  , 2.71, 2.71, 2.71, 3.  , 1.  , 5.  , 2.  ],\n",
       "       [2.78, 5.  , 1.  , 4.  , 2.78, 2.78, 2.78, 3.  , 1.  , 2.78, 1.  ,\n",
       "        2.78, 2.78, 4.  , 2.78, 2.78, 2.  , 2.78, 2.78, 4.  ],\n",
       "       [3.  , 3.  , 3.  , 5.  , 4.  , 3.  , 3.  , 4.  , 5.  , 3.  , 3.  ,\n",
       "        1.  , 2.  , 1.  , 1.  , 3.  , 3.  , 3.  , 4.  , 3.  ]])"
      ]
     },
     "execution_count": 16,
     "metadata": {},
     "output_type": "execute_result"
    }
   ],
   "source": [
    "rating_data = pd.read_csv(RATING_DATA_PATH, index_col='user_id').values\n",
    "filtered_data = filter_users_without_movie(rating_data, 3)\n",
    "filled_data = fill_nan_with_user_mean(filtered_data)\n",
    "user_0_neighbors = get_k_neighbors(0, filled_data, 5)\n",
    "user_0_neighbors"
   ]
  },
  {
   "cell_type": "code",
   "execution_count": null,
   "metadata": {},
   "outputs": [],
   "source": []
  }
 ],
 "metadata": {
  "kernelspec": {
   "display_name": "Python 3",
   "language": "python",
   "name": "python3"
  },
  "language_info": {
   "codemirror_mode": {
    "name": "ipython",
    "version": 3
   },
   "file_extension": ".py",
   "mimetype": "text/x-python",
   "name": "python",
   "nbconvert_exporter": "python",
   "pygments_lexer": "ipython3",
   "version": "3.6.8"
  }
 },
 "nbformat": 4,
 "nbformat_minor": 2
}
