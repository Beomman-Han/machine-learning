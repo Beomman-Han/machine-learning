{
 "cells": [
  {
   "cell_type": "code",
   "execution_count": 2,
   "metadata": {},
   "outputs": [],
   "source": [
    "import numpy as np"
   ]
  },
  {
   "cell_type": "code",
   "execution_count": 3,
   "metadata": {},
   "outputs": [],
   "source": [
    "## practice cost function for matrix factorization\n",
    "def cost(\n",
    "    prediction : np.array,\n",
    "    rating : np.array\n",
    "    ) -> float:\n",
    "    \n",
    "    return np.nansum((prediction - rating) ** 2)"
   ]
  },
  {
   "cell_type": "code",
   "execution_count": 4,
   "metadata": {},
   "outputs": [
    {
     "data": {
      "text/plain": [
       "(array([[0.22199317, 0.87073231],\n",
       "        [0.20671916, 0.91861091],\n",
       "        [0.48841119, 0.61174386],\n",
       "        [0.76590786, 0.51841799],\n",
       "        [0.2968005 , 0.18772123]]),\n",
       " array([[0.08074127, 0.7384403 , 0.44130922, 0.15830987, 0.87993703,\n",
       "         0.27408646],\n",
       "        [0.41423502, 0.29607993, 0.62878791, 0.57983781, 0.5999292 ,\n",
       "         0.26581912]]))"
      ]
     },
     "execution_count": 4,
     "metadata": {},
     "output_type": "execute_result"
    }
   ],
   "source": [
    "## initialize matrix\n",
    "\n",
    "np.random.seed(5)\n",
    "\n",
    "def initialize(R, num_features):\n",
    "    \n",
    "    num_users, num_items = R.shape\n",
    "    \n",
    "    Theta = np.random.rand(num_users, num_features)\n",
    "    X = np.random.rand(num_features, num_items)\n",
    "    \n",
    "    return Theta, X\n",
    "\n",
    "R = np.array([\n",
    "    [3, 4, 1, np.nan, 1, 2],\n",
    "    [4, 4, 3, np.nan, 5, 3],\n",
    "    [2, 3, np.nan, 1, 3, 4],\n",
    "    [1, 3, 2, 4, 2, 2],\n",
    "    [1, 2, np.nan, 2, 2, 4],\n",
    "    ])\n",
    "    \n",
    "    \n",
    "Theta, X = initialize(R, 2)\n",
    "Theta, X"
   ]
  },
  {
   "cell_type": "code",
   "execution_count": null,
   "metadata": {},
   "outputs": [],
   "source": []
  }
 ],
 "metadata": {
  "kernelspec": {
   "display_name": "Python 3",
   "language": "python",
   "name": "python3"
  },
  "language_info": {
   "codemirror_mode": {
    "name": "ipython",
    "version": 3
   },
   "file_extension": ".py",
   "mimetype": "text/x-python",
   "name": "python",
   "nbconvert_exporter": "python",
   "pygments_lexer": "ipython3",
   "version": "3.6.8"
  }
 },
 "nbformat": 4,
 "nbformat_minor": 2
}
