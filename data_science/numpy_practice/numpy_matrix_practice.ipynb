{
 "cells": [
  {
   "cell_type": "code",
   "execution_count": 2,
   "metadata": {},
   "outputs": [],
   "source": [
    "import numpy as np"
   ]
  },
  {
   "cell_type": "code",
   "execution_count": 3,
   "metadata": {},
   "outputs": [],
   "source": [
    "## matrix arithmetic operation practice\n",
    "\n",
    "A = np.array([\n",
    "    [3, 3, 2, 3, 1],\n",
    "    [5, 2, 2, 3, 1],\n",
    "    [3, 3, 2, 3, 1],\n",
    "    [3, 1, 4, 3, 1],\n",
    "])\n",
    "\n",
    "B = np.array([\n",
    "    [1, 1, 1, 1, 1],\n",
    "    [2, 2, 2, 2, 2],\n",
    "    [3, 3, 3, 3, 3],\n",
    "    [4, 4, 4, 4, 4],\n",
    "])"
   ]
  },
  {
   "cell_type": "code",
   "execution_count": 4,
   "metadata": {},
   "outputs": [
    {
     "data": {
      "text/plain": [
       "array([[4, 4, 3, 4, 2],\n",
       "       [7, 4, 4, 5, 3],\n",
       "       [6, 6, 5, 6, 4],\n",
       "       [7, 5, 8, 7, 5]])"
      ]
     },
     "execution_count": 4,
     "metadata": {},
     "output_type": "execute_result"
    }
   ],
   "source": [
    "A + B  ## summation"
   ]
  },
  {
   "cell_type": "code",
   "execution_count": 5,
   "metadata": {},
   "outputs": [
    {
     "data": {
      "text/plain": [
       "array([[ 2,  2,  1,  2,  0],\n",
       "       [ 3,  0,  0,  1, -1],\n",
       "       [ 0,  0, -1,  0, -2],\n",
       "       [-1, -3,  0, -1, -3]])"
      ]
     },
     "execution_count": 5,
     "metadata": {},
     "output_type": "execute_result"
    }
   ],
   "source": [
    "A - B  ## diff"
   ]
  },
  {
   "cell_type": "code",
   "execution_count": 6,
   "metadata": {},
   "outputs": [
    {
     "data": {
      "text/plain": [
       "array([[ 3,  3,  2,  3,  1],\n",
       "       [10,  4,  4,  6,  2],\n",
       "       [ 9,  9,  6,  9,  3],\n",
       "       [12,  4, 16, 12,  4]])"
      ]
     },
     "execution_count": 6,
     "metadata": {},
     "output_type": "execute_result"
    }
   ],
   "source": [
    "A * B  ## multiplication by element"
   ]
  },
  {
   "cell_type": "code",
   "execution_count": 7,
   "metadata": {},
   "outputs": [
    {
     "data": {
      "text/plain": [
       "array([[3.        , 3.        , 2.        , 3.        , 1.        ],\n",
       "       [2.5       , 1.        , 1.        , 1.5       , 0.5       ],\n",
       "       [1.        , 1.        , 0.66666667, 1.        , 0.33333333],\n",
       "       [0.75      , 0.25      , 1.        , 0.75      , 0.25      ]])"
      ]
     },
     "execution_count": 7,
     "metadata": {},
     "output_type": "execute_result"
    }
   ],
   "source": [
    "A / B  ## division by element"
   ]
  },
  {
   "cell_type": "code",
   "execution_count": 8,
   "metadata": {},
   "outputs": [],
   "source": [
    "## nan\n",
    "\n",
    "A = np.array([\n",
    "    [3, 3, 2, 3, 1],\n",
    "    [5, 2, 2, 3, 1],\n",
    "    [3, 3, np.nan, 3, 1],\n",
    "    [3, 1, 4, 3, 1],\n",
    "])\n",
    "\n",
    "B = np.array([\n",
    "    [1, np.nan, 1, 1, 1],\n",
    "    [2, 2, 2, 2, 2],\n",
    "    [3, 3, 3, 3, 3],\n",
    "    [np.nan, 4, 4, 4, 4],\n",
    "])"
   ]
  },
  {
   "cell_type": "code",
   "execution_count": 9,
   "metadata": {},
   "outputs": [
    {
     "data": {
      "text/plain": [
       "array([[ 4., nan,  3.,  4.,  2.],\n",
       "       [ 7.,  4.,  4.,  5.,  3.],\n",
       "       [ 6.,  6., nan,  6.,  4.],\n",
       "       [nan,  5.,  8.,  7.,  5.]])"
      ]
     },
     "execution_count": 9,
     "metadata": {},
     "output_type": "execute_result"
    }
   ],
   "source": [
    "## if nan is in either matrix, result is nan\n",
    "A + B"
   ]
  },
  {
   "cell_type": "code",
   "execution_count": null,
   "metadata": {},
   "outputs": [],
   "source": []
  },
  {
   "cell_type": "code",
   "execution_count": 10,
   "metadata": {},
   "outputs": [
    {
     "data": {
      "text/plain": [
       "array([[15, 15, 10, 15,  5],\n",
       "       [25, 10, 10, 15,  5],\n",
       "       [15, 15, 10, 15,  5],\n",
       "       [15,  5, 20, 15,  5]])"
      ]
     },
     "execution_count": 10,
     "metadata": {},
     "output_type": "execute_result"
    }
   ],
   "source": [
    "## scala multiplication\n",
    "A = np.array([\n",
    "    [3, 3, 2, 3, 1],\n",
    "    [5, 2, 2, 3, 1],\n",
    "    [3, 3, 2, 3, 1],\n",
    "    [3, 1, 4, 3, 1],\n",
    "])\n",
    "\n",
    "5 * A"
   ]
  },
  {
   "cell_type": "code",
   "execution_count": 11,
   "metadata": {},
   "outputs": [
    {
     "data": {
      "text/plain": [
       "array([[12, 24, 36, 48, 60],\n",
       "       [13, 26, 39, 52, 65],\n",
       "       [12, 24, 36, 48, 60],\n",
       "       [12, 24, 36, 48, 60]])"
      ]
     },
     "execution_count": 11,
     "metadata": {},
     "output_type": "execute_result"
    }
   ],
   "source": [
    "## matrix multiplication\n",
    "\n",
    "A = np.array([\n",
    "    [3, 3, 2, 3, 1],\n",
    "    [5, 2, 2, 3, 1],\n",
    "    [3, 3, 2, 3, 1],\n",
    "    [3, 1, 4, 3, 1],\n",
    "])\n",
    "\n",
    "B = np.array([\n",
    "    [1, 2, 3, 4, 5],\n",
    "    [1, 2, 3, 4, 5],\n",
    "    [1, 2, 3, 4, 5],\n",
    "    [1, 2, 3, 4, 5],\n",
    "    [1, 2, 3, 4, 5],\n",
    "])\n",
    "\n",
    "A @ B"
   ]
  },
  {
   "cell_type": "code",
   "execution_count": null,
   "metadata": {},
   "outputs": [],
   "source": []
  },
  {
   "cell_type": "code",
   "execution_count": 12,
   "metadata": {},
   "outputs": [],
   "source": [
    "## matrix indexing"
   ]
  },
  {
   "cell_type": "code",
   "execution_count": 16,
   "metadata": {},
   "outputs": [
    {
     "name": "stdout",
     "output_type": "stream",
     "text": [
      "[3 3 2 3 1]\n",
      "[3 1 4 3 1]\n",
      "3\n",
      "2\n",
      "[3 3 3 3]\n",
      "[3 1 4 3 1]\n"
     ]
    }
   ],
   "source": [
    "## access row of matrix\n",
    "A = np.array([\n",
    "    [3, 3, 2, 3, 1],\n",
    "    [5, 2, 2, 3, 1],\n",
    "    [3, 3, 2, 3, 1],\n",
    "    [3, 1, 4, 3, 1],\n",
    "])\n",
    "\n",
    "print(A[0])  ## 0행\n",
    "print(A[3])  ## 3행\n",
    "print(A[0][3])  ## 0행 3열\n",
    "print(A[1][1])  ## 1행 1열\n",
    "print(A[:, 3])  ## 3열\n",
    "print(A[3, :])  ## 3행"
   ]
  },
  {
   "cell_type": "code",
   "execution_count": null,
   "metadata": {},
   "outputs": [],
   "source": []
  }
 ],
 "metadata": {
  "kernelspec": {
   "display_name": "Python 3",
   "language": "python",
   "name": "python3"
  },
  "language_info": {
   "codemirror_mode": {
    "name": "ipython",
    "version": 3
   },
   "file_extension": ".py",
   "mimetype": "text/x-python",
   "name": "python",
   "nbconvert_exporter": "python",
   "pygments_lexer": "ipython3",
   "version": "3.6.8"
  }
 },
 "nbformat": 4,
 "nbformat_minor": 2
}
