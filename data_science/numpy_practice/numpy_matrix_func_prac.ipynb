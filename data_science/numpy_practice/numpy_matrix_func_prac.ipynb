{
 "cells": [
  {
   "cell_type": "code",
   "execution_count": 1,
   "metadata": {},
   "outputs": [],
   "source": [
    "## practice basic functions of numpy\n",
    "import numpy as np"
   ]
  },
  {
   "cell_type": "code",
   "execution_count": 2,
   "metadata": {},
   "outputs": [
    {
     "data": {
      "text/plain": [
       "49"
      ]
     },
     "execution_count": 2,
     "metadata": {},
     "output_type": "execute_result"
    }
   ],
   "source": [
    "## sum of elements in matrix\n",
    "A = np.array([\n",
    "    [3, 3, 2, 3, 1],\n",
    "    [5, 2, 2, 3, 1],\n",
    "    [3, 3, 2, 3, 1],\n",
    "    [3, 1, 4, 3, 1],\n",
    "])\n",
    "\n",
    "np.sum(A)"
   ]
  },
  {
   "cell_type": "code",
   "execution_count": 3,
   "metadata": {},
   "outputs": [
    {
     "data": {
      "text/plain": [
       "nan"
      ]
     },
     "execution_count": 3,
     "metadata": {},
     "output_type": "execute_result"
    }
   ],
   "source": [
    "## matrix containing nan elements\n",
    "A = np.array([\n",
    "    [3, 3, 2, 3, 1],\n",
    "    [5, 2, 2, 3, 1],\n",
    "    [3, 3, np.nan, 3, 1],\n",
    "    [3, 1, 4, 3, 1],\n",
    "])\n",
    "\n",
    "np.sum(A)"
   ]
  },
  {
   "cell_type": "code",
   "execution_count": 4,
   "metadata": {},
   "outputs": [
    {
     "data": {
      "text/plain": [
       "47.0"
      ]
     },
     "execution_count": 4,
     "metadata": {},
     "output_type": "execute_result"
    }
   ],
   "source": [
    "## sum except nan\n",
    "np.nansum(A)"
   ]
  },
  {
   "cell_type": "code",
   "execution_count": 5,
   "metadata": {},
   "outputs": [
    {
     "data": {
      "text/plain": [
       "2.45"
      ]
     },
     "execution_count": 5,
     "metadata": {},
     "output_type": "execute_result"
    }
   ],
   "source": [
    "## mean of elements in matrix\n",
    "A = np.array([\n",
    "    [3, 3, 2, 3, 1],\n",
    "    [5, 2, 2, 3, 1],\n",
    "    [3, 3, 2, 3, 1],\n",
    "    [3, 1, 4, 3, 1],\n",
    "])\n",
    "\n",
    "np.mean(A)"
   ]
  },
  {
   "cell_type": "code",
   "execution_count": 6,
   "metadata": {},
   "outputs": [
    {
     "data": {
      "text/plain": [
       "nan"
      ]
     },
     "execution_count": 6,
     "metadata": {},
     "output_type": "execute_result"
    }
   ],
   "source": [
    "## matrix containing nan elements\n",
    "A = np.array([\n",
    "    [3, 3, 2, 3, 1],\n",
    "    [5, 2, 2, 3, 1],\n",
    "    [3, 3, np.nan, 3, 1],\n",
    "    [3, 1, 4, 3, 1],\n",
    "])\n",
    "\n",
    "np.mean(A)"
   ]
  },
  {
   "cell_type": "code",
   "execution_count": 7,
   "metadata": {},
   "outputs": [
    {
     "data": {
      "text/plain": [
       "2.473684210526316"
      ]
     },
     "execution_count": 7,
     "metadata": {},
     "output_type": "execute_result"
    }
   ],
   "source": [
    "np.nanmean(A)"
   ]
  },
  {
   "cell_type": "code",
   "execution_count": null,
   "metadata": {},
   "outputs": [],
   "source": []
  }
 ],
 "metadata": {
  "kernelspec": {
   "display_name": "Python 3",
   "language": "python",
   "name": "python3"
  },
  "language_info": {
   "codemirror_mode": {
    "name": "ipython",
    "version": 3
   },
   "file_extension": ".py",
   "mimetype": "text/x-python",
   "name": "python",
   "nbconvert_exporter": "python",
   "pygments_lexer": "ipython3",
   "version": "3.6.8"
  }
 },
 "nbformat": 4,
 "nbformat_minor": 2
}
